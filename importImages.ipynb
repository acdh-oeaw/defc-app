{
 "cells": [
  {
   "cell_type": "code",
   "execution_count": 16,
   "metadata": {
    "collapsed": true
   },
   "outputs": [],
   "source": [
    "import csv, re\n",
    "from django.core.files import File"
   ]
  },
  {
   "cell_type": "code",
   "execution_count": 17,
   "metadata": {
    "collapsed": true
   },
   "outputs": [],
   "source": [
    "for y in ImageThesaurus.objects.all():\n",
    "    y.delete()"
   ]
  },
  {
   "cell_type": "code",
   "execution_count": 18,
   "metadata": {
    "collapsed": true
   },
   "outputs": [],
   "source": [
    "file = \"images.csv\""
   ]
  },
  {
   "cell_type": "code",
   "execution_count": 19,
   "metadata": {
    "collapsed": false
   },
   "outputs": [],
   "source": [
    "with open(file, 'r') as data:\n",
    "    reader = csv.reader(data)\n",
    "    datalist = list(reader)"
   ]
  },
  {
   "cell_type": "code",
   "execution_count": 20,
   "metadata": {
    "collapsed": true
   },
   "outputs": [],
   "source": [
    "failed_saves = []\n",
    "c = 0"
   ]
  },
  {
   "cell_type": "code",
   "execution_count": 21,
   "metadata": {
    "collapsed": false
   },
   "outputs": [],
   "source": [
    "for x in datalist[1:]:\n",
    "    newImage, _ = ImageThesaurus.objects.get_or_create(name=x[3],\n",
    "                                                       filename=x[0],\n",
    "                                                       page=x[5],\n",
    "                                                      image='static/images/'+x[6])\n",
    "    newImage.save()\n",
    "    split_region = x[1].split(\"_\")\n",
    "    region_objects = []\n",
    "    for region_name in split_region:\n",
    "        #print(region_name)\n",
    "        new_region = DC_region.objects.get(name=region_name)\n",
    "        region_objects.append(new_region)\n",
    "    newImage.region = region_objects\n",
    "    newImage.literature = Book.objects.get(zoterokey=x[4])\n",
    "    newImage.save()"
   ]
  },
  {
   "cell_type": "code",
   "execution_count": 3,
   "metadata": {
    "collapsed": false
   },
   "outputs": [
    {
     "data": {
      "text/plain": [
       "<Book: Evans, J. D. Excavations in the Neolithic Settlement of Knossos, 1957-60. None None>"
      ]
     },
     "execution_count": 3,
     "metadata": {},
     "output_type": "execute_result"
    }
   ],
   "source": [
    "Book.objects.get(zoterokey=\"BPU7IJGK\")"
   ]
  },
  {
   "cell_type": "code",
   "execution_count": null,
   "metadata": {
    "collapsed": true
   },
   "outputs": [],
   "source": []
  }
 ],
 "metadata": {
  "kernelspec": {
   "display_name": "Django Shell-Plus",
   "language": "python",
   "name": "django_extensions"
  },
  "language_info": {
   "codemirror_mode": {
    "name": "ipython",
    "version": 3
   },
   "file_extension": ".py",
   "mimetype": "text/x-python",
   "name": "python",
   "nbconvert_exporter": "python",
   "pygments_lexer": "ipython3",
   "version": "3.4.4"
  }
 },
 "nbformat": 4,
 "nbformat_minor": 0
}
