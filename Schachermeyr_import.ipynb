{
 "cells": [
  {
   "cell_type": "code",
   "execution_count": 9,
   "metadata": {
    "collapsed": false
   },
   "outputs": [],
   "source": [
    "import csv, re"
   ]
  },
  {
   "cell_type": "code",
   "execution_count": 10,
   "metadata": {
    "collapsed": true
   },
   "outputs": [],
   "source": [
    "file = \"data/Schachermeyr_threedmodels.csv\""
   ]
  },
  {
   "cell_type": "code",
   "execution_count": 11,
   "metadata": {
    "collapsed": true
   },
   "outputs": [],
   "source": [
    "with open(file, 'r', encoding ='utf-8') as data:\n",
    "    reader = csv.reader(data)\n",
    "    datalist = list(reader)"
   ]
  },
  {
   "cell_type": "code",
   "execution_count": 12,
   "metadata": {
    "collapsed": true
   },
   "outputs": [],
   "source": [
    "for x in datalist[2:]:\n",
    "    model = Threedmodel.objects.get_or_create(model_id=x[0],\n",
    "                                             part=x[10],\n",
    "                                             diameter=x[11],\n",
    "                                             wall_thickness=x[12],\n",
    "                                             surface_treatment_i=x[13],\n",
    "                                             surface_treatment_o=x[14],\n",
    "                                             surface_color_i=x[15],\n",
    "                                             surface_color_o=x[16],\n",
    "                                             decoration_color=x[17],\n",
    "                                             decoration_description=x[18],\n",
    "                                             fabric_color=x[25],\n",
    "                                             hardness=x[26],\n",
    "                                             sorting=x[27],\n",
    "                                             density=x[28],\n",
    "                                             pores=x[29],\n",
    "                                             core_form=x[30],\n",
    "                                             core_color=x[31],\n",
    "                                             model_file='static/threedmodels/'+x[22]+'.nxs')"
   ]
  },
  {
   "cell_type": "code",
   "execution_count": 13,
   "metadata": {
    "collapsed": true
   },
   "outputs": [],
   "source": [
    "#threedmodelsall = Threedmodel\n",
    "#for x in threedmodelsall:\n",
    " #   x.delete()"
   ]
  },
  {
   "cell_type": "code",
   "execution_count": 8,
   "metadata": {
    "collapsed": true
   },
   "outputs": [],
   "source": []
  },
  {
   "cell_type": "code",
   "execution_count": null,
   "metadata": {
    "collapsed": true
   },
   "outputs": [],
   "source": []
  }
 ],
 "metadata": {
  "kernelspec": {
   "display_name": "Django Shell-Plus",
   "language": "python",
   "name": "django_extensions"
  },
  "language_info": {
   "codemirror_mode": {
    "name": "ipython",
    "version": 3
   },
   "file_extension": ".py",
   "mimetype": "text/x-python",
   "name": "python",
   "nbconvert_exporter": "python",
   "pygments_lexer": "ipython3",
   "version": "3.4.3"
  }
 },
 "nbformat": 4,
 "nbformat_minor": 0
}
