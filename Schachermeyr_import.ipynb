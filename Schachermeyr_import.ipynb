{
 "cells": [
  {
   "cell_type": "code",
   "execution_count": 1,
   "metadata": {
    "collapsed": false
   },
   "outputs": [],
   "source": [
    "import csv, re"
   ]
  },
  {
   "cell_type": "code",
   "execution_count": 2,
   "metadata": {
    "collapsed": false
   },
   "outputs": [],
   "source": [
    "threedmodelsall = Threedmodel.objects.all()\n",
    "for x in threedmodelsall:\n",
    "    x.delete()"
   ]
  },
  {
   "cell_type": "code",
   "execution_count": 3,
   "metadata": {
    "collapsed": true
   },
   "outputs": [],
   "source": [
    "file = \"data/Schachermeyr_threedmodels.csv\""
   ]
  },
  {
   "cell_type": "code",
   "execution_count": 4,
   "metadata": {
    "collapsed": true
   },
   "outputs": [],
   "source": [
    "with open(file, 'r', encoding ='utf-8') as data:\n",
    "    reader = csv.reader(data)\n",
    "    datalist = list(reader)"
   ]
  },
  {
   "cell_type": "code",
   "execution_count": 5,
   "metadata": {
    "collapsed": false
   },
   "outputs": [],
   "source": [
    "#create new model\n",
    "for x in datalist[2:]:\n",
    "    if x[22] != '':\n",
    "        model = Threedmodel.objects.get_or_create(model_id=x[0],\n",
    "                                             part=x[10],\n",
    "                                             diameter=x[11],\n",
    "                                             wall_thickness=x[12],\n",
    "                                             surface_treatment_i=x[13],\n",
    "                                             surface_treatment_o=x[14],\n",
    "                                             surface_color_i=x[15],\n",
    "                                             surface_color_o=x[16],\n",
    "                                             decoration_color=x[17],\n",
    "                                             decoration_description=x[18],\n",
    "                                             fabric_color=x[25],\n",
    "                                             hardness=x[26],\n",
    "                                             sorting=x[27],\n",
    "                                             density=x[28],\n",
    "                                             pores=x[29],\n",
    "                                             core_form=x[30],\n",
    "                                             core_color=x[31],\n",
    "                                             model_file='models/'+x[22]+'.nxs',\n",
    "                                             model_thumbnail='thumbnails/'+x[22]+'.jpg')"
   ]
  },
  {
   "cell_type": "code",
   "execution_count": 6,
   "metadata": {
    "collapsed": true
   },
   "outputs": [],
   "source": [
    "# add metadata to model\n",
    "for x in datalist[2:]:\n",
    "    if x[22] != '':\n",
    "        try:\n",
    "            model = Threedmodel.objects.get(model_id=x[0])\n",
    "            model.model_metadata = \"metadata/{}.csv\".format(x[22])\n",
    "            model.save()\n",
    "        except:\n",
    "            print('error:'+x[22])"
   ]
  },
  {
   "cell_type": "code",
   "execution_count": 7,
   "metadata": {
    "collapsed": false
   },
   "outputs": [],
   "source": [
    "#add parameter data to model\n",
    "for x in datalist[2:]:\n",
    "    if x[22] != '':\n",
    "        try:\n",
    "            model = Threedmodel.objects.get(model_id=x[0])\n",
    "            newName = re.sub('internet', 'Parameter', x[22])\n",
    "            model.model_parameters = \"parameters/{}.txt\".format(newName)\n",
    "            model.save()\n",
    "        except:\n",
    "            print('error:'+x[22])"
   ]
  },
  {
   "cell_type": "code",
   "execution_count": 8,
   "metadata": {
    "collapsed": false
   },
   "outputs": [],
   "source": [
    "#create contact and project objects\n",
    "\n",
    "new_institution, _ = DC_researchevent_institution.objects.get_or_create(name=\"ÖAW, OREA\")\n",
    "new_contact1, _ = Contact.objects.get_or_create(\n",
    "    first_name = \"Eva\",\n",
    "    last_name = \"Alram\"\n",
    ")\n",
    "new_contact1.institution.add(new_institution)\n",
    "new_contact1.save()\n",
    "\n",
    "new_contact2, _ = Contact.objects.get_or_create(\n",
    "    first_name = \"Seta\",\n",
    "    last_name = \"Stuhec\"\n",
    ")\n",
    "new_contact2.institution.add(new_institution)\n",
    "new_contact2.save()\n",
    "\n",
    "new_project, _ = Project.objects.get_or_create(\n",
    "    name = \"Digitizing Early Farming Cultures\",\n",
    "    title = \"Fritz Schachermeyr pottery collection\",\n",
    "    source = \"ÖAW, OREA\",\n",
    "    language = \"English/German\",\n",
    "    keywords = \"3D, pottery, neolithic, Thessaly\",\n",
    "    publisher = \"ÖAW, OREA\",\n",
    "    license = \"CC-BY\",\n",
    "    access_rights = \"Open access\")\n",
    "\n",
    "new_project.contact = ([new_contact1,new_contact2])\n"
   ]
  },
  {
   "cell_type": "code",
   "execution_count": 9,
   "metadata": {
    "collapsed": false
   },
   "outputs": [],
   "source": [
    "#add resource_metadata to model\n",
    "for x in datalist[2:]:\n",
    "    if x[22] != '':\n",
    "        temp_model = Threedmodel.objects.get(model_id=x[0])\n",
    "        temp_model.resource_metadata = new_project\n",
    "        temp_model.save()"
   ]
  },
  {
   "cell_type": "code",
   "execution_count": null,
   "metadata": {
    "collapsed": true
   },
   "outputs": [],
   "source": []
  }
 ],
 "metadata": {
  "kernelspec": {
   "display_name": "Django Shell-Plus",
   "language": "python",
   "name": "django_extensions"
  },
  "language_info": {
   "codemirror_mode": {
    "name": "ipython",
    "version": 3
   },
   "file_extension": ".py",
   "mimetype": "text/x-python",
   "name": "python",
   "nbconvert_exporter": "python",
   "pygments_lexer": "ipython3",
   "version": "3.4.4"
  }
 },
 "nbformat": 4,
 "nbformat_minor": 0
}
