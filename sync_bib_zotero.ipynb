{
 "cells": [
  {
   "cell_type": "code",
   "execution_count": 4,
   "metadata": {
    "collapsed": false
   },
   "outputs": [],
   "source": [
    "import requests, json, sys\n",
    "from bib.models import Book\n",
    "from orea.settings.pandorfer_local import Z_USER_ID, Z_COLLECTION, Z_API_KEY"
   ]
  },
  {
   "cell_type": "code",
   "execution_count": 5,
   "metadata": {
    "collapsed": false
   },
   "outputs": [],
   "source": [
    "root = \"https://api.zotero.org/users/\"\n",
    "params = \"{}/collections/{}/items/top?v=3&key={}\".format(Z_USER_ID,\n",
    "                                                         Z_COLLECTION,\n",
    "                                                         Z_API_KEY)\n",
    "url = root+params+\"&sort=dateModified&limit=5\""
   ]
  },
  {
   "cell_type": "code",
   "execution_count": 6,
   "metadata": {
    "collapsed": false
   },
   "outputs": [],
   "source": [
    "try:\n",
    "    r = requests.get(url)\n",
    "except:\n",
    "    sys.exit(\"aa! errors!\")"
   ]
  },
  {
   "cell_type": "code",
   "execution_count": 7,
   "metadata": {
    "collapsed": true
   },
   "outputs": [],
   "source": [
    "response = r.json()"
   ]
  },
  {
   "cell_type": "code",
   "execution_count": 8,
   "metadata": {
    "collapsed": false,
    "scrolled": true
   },
   "outputs": [
    {
     "name": "stdout",
     "output_type": "stream",
     "text": [
      "saved: 5 objects \n",
      "failed: 0 objects\n"
     ]
    }
   ],
   "source": [
    "failed = []\n",
    "saved = []\n",
    "for x in response:\n",
    "    NewBook = Book(zoterokey = x[\"data\"][\"key\"],\n",
    "                      item_type =x[\"data\"][\"itemType\"],\n",
    "                      author=x[\"data\"][\"creators\"][0][\"name\"],\n",
    "                      title =x[\"data\"][\"title\"],\n",
    "                      short_title = x[\"data\"][\"shortTitle\"])\n",
    "    try:\n",
    "        NewBook.save()\n",
    "        saved.append(x['data'])\n",
    "    except:\n",
    "        failed.append(x['data'])\n",
    "print('saved: {} objects \\nfailed: {} objects'.format(len(saved), len(failed)))"
   ]
  }
 ],
 "metadata": {
  "kernelspec": {
   "display_name": "Python 3",
   "language": "python",
   "name": "python3"
  },
  "language_info": {
   "codemirror_mode": {
    "name": "ipython",
    "version": 3
   },
   "file_extension": ".py",
   "mimetype": "text/x-python",
   "name": "python",
   "nbconvert_exporter": "python",
   "pygments_lexer": "ipython3",
   "version": "3.4.4"
  }
 },
 "nbformat": 4,
 "nbformat_minor": 0
}
