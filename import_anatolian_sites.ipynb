{
 "cells": [
  {
   "cell_type": "code",
   "execution_count": 1,
   "metadata": {
    "collapsed": true
   },
   "outputs": [],
   "source": [
    "import pandas as pd"
   ]
  },
  {
   "cell_type": "code",
   "execution_count": 2,
   "metadata": {
    "collapsed": true
   },
   "outputs": [],
   "source": [
    "file = \"data/neolithic sites_coordinates_Anatolia.xlsx\" \n",
    "data = pd.read_excel(file)"
   ]
  },
  {
   "cell_type": "code",
   "execution_count": 4,
   "metadata": {
    "collapsed": true
   },
   "outputs": [],
   "source": [
    "gps = DC_site_geographicalreferencesystem.objects.get(name=\"WGS84 - World Geodetic System 1984\")\n",
    "source = DC_site_coordinatesource.objects.get(name=\"OREA\")"
   ]
  },
  {
   "cell_type": "code",
   "execution_count": 6,
   "metadata": {
    "collapsed": false
   },
   "outputs": [],
   "source": [
    "duplicates = []\n",
    "for index, rows in data.iterrows():\n",
    "    try:\n",
    "        temp_site, _ = Site.objects.get_or_create(name=rows['Site name'])\n",
    "        temp_site.save()\n",
    "        temp_site.geographical_coordinate_reference_system = gps\n",
    "        temp_site.coordinate_source = source\n",
    "        temp_site.latitude = float(rows['X'].replace(\",\", \".\"))\n",
    "        temp_site.longitude = float(rows['Y'].replace(\",\", \".\"))\n",
    "        temp_site.exact_location = \"yes\" \n",
    "        temp_site.save()\n",
    "    except:\n",
    "        duplicates.append(rows['Site name'])\n",
    "        print(rows['Site name'])"
   ]
  },
  {
   "cell_type": "code",
   "execution_count": 7,
   "metadata": {
    "collapsed": false
   },
   "outputs": [
    {
     "data": {
      "text/plain": [
       "0"
      ]
     },
     "execution_count": 7,
     "metadata": {},
     "output_type": "execute_result"
    }
   ],
   "source": [
    "len(duplicates)"
   ]
  }
 ],
 "metadata": {
  "kernelspec": {
   "display_name": "Django Shell-Plus",
   "language": "python",
   "name": "django_extensions"
  },
  "language_info": {
   "codemirror_mode": {
    "name": "ipython",
    "version": 3
   },
   "file_extension": ".py",
   "mimetype": "text/x-python",
   "name": "python",
   "nbconvert_exporter": "python",
   "pygments_lexer": "ipython3",
   "version": "3.4.4"
  }
 },
 "nbformat": 4,
 "nbformat_minor": 0
}
