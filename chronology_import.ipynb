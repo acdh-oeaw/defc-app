{
 "cells": [
  {
   "cell_type": "code",
   "execution_count": 1,
   "metadata": {
    "collapsed": true
   },
   "outputs": [],
   "source": [
    "import csv, re"
   ]
  },
  {
   "cell_type": "code",
   "execution_count": 2,
   "metadata": {
    "collapsed": true
   },
   "outputs": [],
   "source": [
    "file = \"data/chronology_import.csv\""
   ]
  },
  {
   "cell_type": "code",
   "execution_count": 3,
   "metadata": {
    "collapsed": true
   },
   "outputs": [],
   "source": [
    "with open(file, 'r', encoding ='utf-8') as data:\n",
    "    reader = csv.reader(data)\n",
    "    datalist = list(reader)"
   ]
  },
  {
   "cell_type": "code",
   "execution_count": 4,
   "metadata": {
    "collapsed": false
   },
   "outputs": [
    {
     "name": "stdout",
     "output_type": "stream",
     "text": [
      "79\n",
      "saved 156 entries; evaluated 78 objects\n",
      "Failed evals:  []\n",
      "Failed saves:  []\n"
     ]
    }
   ],
   "source": [
    "failed_saves = []\n",
    "failed_evals =[]\n",
    "eval_counter = 0\n",
    "save_counter = 0\n",
    "for x in datalist[1:]:\n",
    "    if x[6] == \"\":\n",
    "        string = \"\"\"{}({}=\"{}\", {}=\"{}\")\"\"\".format(x[0], x[1], x[2], x[3], x[4] )\n",
    "    else:\n",
    "        string = \"\"\"{}({}=\"{}\", {}=\"{}\", {}=\"{}\", {}=\"{}\", {}=\"{}\", {}=\"{}\")\"\"\".format(x[0], x[1], x[2], x[3], x[4], x[5], x[6], x[7], x[8], x[9], x[10], x[11], x[12] )\n",
    "    #print(string)\n",
    "    try:\n",
    "        temporary_object = eval(string)\n",
    "        #print(\"eval good\", string)\n",
    "        eval_counter = eval_counter+1\n",
    "    except:\n",
    "        #print(\"eval bad\", string)\n",
    "        failed_evals.append(string)\n",
    "    try:\n",
    "        temporary_object.save()\n",
    "        save_counter = save_counter +1\n",
    "    except:\n",
    "        failed_saves.append(string)\n",
    "    split_region = x[14].split(\"/\")\n",
    "    #print(split_region)\n",
    "    region_objects = []\n",
    "    for region_name in split_region:\n",
    "        #print(region_name)\n",
    "        new_region = DC_region.objects.get(name=region_name)\n",
    "        region_objects.append(new_region)\n",
    "    temporary_object.region=region_objects #region is a field name here #temporary_object is the same\n",
    "    try:\n",
    "        temporary_object.save()\n",
    "        save_counter = save_counter +1\n",
    "    except:\n",
    "        failed_saves.append(string)\n",
    "print(len(datalist))\n",
    "print(\"saved {} entries; evaluated {} objects\".format(save_counter, eval_counter))\n",
    "print(\"Failed evals: \", failed_evals)\n",
    "print(\"Failed saves: \", failed_saves)"
   ]
  },
  {
   "cell_type": "code",
   "execution_count": null,
   "metadata": {
    "collapsed": true
   },
   "outputs": [],
   "source": []
  },
  {
   "cell_type": "code",
   "execution_count": null,
   "metadata": {
    "collapsed": true
   },
   "outputs": [],
   "source": []
  }
 ],
 "metadata": {
  "kernelspec": {
   "display_name": "Django Shell-Plus",
   "language": "python",
   "name": "django_extensions"
  },
  "language_info": {
   "codemirror_mode": {
    "name": "ipython",
    "version": 3
   },
   "file_extension": ".py",
   "mimetype": "text/x-python",
   "name": "python",
   "nbconvert_exporter": "python",
   "pygments_lexer": "ipython3",
   "version": "3.4.3"
  }
 },
 "nbformat": 4,
 "nbformat_minor": 0
}
