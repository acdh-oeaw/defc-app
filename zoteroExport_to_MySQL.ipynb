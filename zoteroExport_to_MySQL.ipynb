{
 "cells": [
  {
   "cell_type": "code",
   "execution_count": 6,
   "metadata": {
    "collapsed": true
   },
   "outputs": [],
   "source": [
    "import csv, re"
   ]
  },
  {
   "cell_type": "code",
   "execution_count": 7,
   "metadata": {
    "collapsed": false
   },
   "outputs": [
    {
     "data": {
      "text/plain": [
       "6293"
      ]
     },
     "execution_count": 7,
     "metadata": {},
     "output_type": "execute_result"
    }
   ],
   "source": [
    "#count current objects in Book\n",
    "len(Book.objects.all())"
   ]
  },
  {
   "cell_type": "code",
   "execution_count": 8,
   "metadata": {
    "collapsed": true
   },
   "outputs": [],
   "source": [
    "file = \"data/zoteroDEFC_export_20160205.csv\""
   ]
  },
  {
   "cell_type": "code",
   "execution_count": 9,
   "metadata": {
    "collapsed": false
   },
   "outputs": [],
   "source": [
    "with open(file, 'r', encoding ='utf-8') as data:\n",
    "    reader = csv.reader(data)\n",
    "    datalist = list(reader)"
   ]
  },
  {
   "cell_type": "code",
   "execution_count": 10,
   "metadata": {
    "collapsed": false
   },
   "outputs": [
    {
     "name": "stderr",
     "output_type": "stream",
     "text": [
      "C:\\Anaconda3\\envs\\defc\\lib\\site-packages\\django\\db\\backends\\mysql\\base.py:124: Warning: Data truncated for column 'publication_title' at row 1\n",
      "  return self.cursor.execute(query, args)\n",
      "\n",
      "WARNING:py.warnings:C:\\Anaconda3\\envs\\defc\\lib\\site-packages\\django\\db\\backends\\mysql\\base.py:124: Warning: Data truncated for column 'publication_title' at row 1\n",
      "  return self.cursor.execute(query, args)\n",
      "\n",
      "C:\\Anaconda3\\envs\\defc\\lib\\site-packages\\django\\db\\backends\\mysql\\base.py:124: Warning: Data truncated for column 'author' at row 1\n",
      "  return self.cursor.execute(query, args)\n",
      "\n",
      "WARNING:py.warnings:C:\\Anaconda3\\envs\\defc\\lib\\site-packages\\django\\db\\backends\\mysql\\base.py:124: Warning: Data truncated for column 'author' at row 1\n",
      "  return self.cursor.execute(query, args)\n",
      "\n"
     ]
    },
    {
     "name": "stdout",
     "output_type": "stream",
     "text": [
      "saved: 6293 objects \n",
      " failed: 1 objects\n"
     ]
    }
   ],
   "source": [
    "failed = []\n",
    "saved = []\n",
    "for row in datalist:\n",
    "    if row[2] != \"\":\n",
    "        NewBook = Book(zoterokey = row[0],\n",
    "                      item_type = row[1],\n",
    "                      author = row[3],\n",
    "                      title = row[4],\n",
    "                      publication_title = row[5],\n",
    "                      short_title = row[21],\n",
    "                      place = row[27],\n",
    "                      publication_year = row[2])\n",
    "        try:\n",
    "            NewBook.save()\n",
    "            saved.append(row)\n",
    "        except:\n",
    "            failed.append(row)\n",
    "    else:\n",
    "        NewBook = Book(zoterokey = row[0],\n",
    "                      item_type = row[1],\n",
    "                      author = row[3],\n",
    "                      title = row[4],\n",
    "                      publication_title = row[5],\n",
    "                      short_title = row[21],\n",
    "                      place = row[27])\n",
    "        try:\n",
    "            NewBook.save()\n",
    "            saved.append(row)\n",
    "        except:\n",
    "            failed.append(row)\n",
    "print('saved: {} objects \\nfailed: {} objects'.format(len(saved), len(failed)))"
   ]
  },
  {
   "cell_type": "code",
   "execution_count": 121,
   "metadata": {
    "collapsed": false
   },
   "outputs": [
    {
     "data": {
      "text/plain": [
       "6293"
      ]
     },
     "execution_count": 121,
     "metadata": {},
     "output_type": "execute_result"
    }
   ],
   "source": [
    "# delete all Book-objects:\n",
    "#Book.objects.all().delete()"
   ]
  },
  {
   "cell_type": "code",
   "execution_count": 11,
   "metadata": {
    "collapsed": false
   },
   "outputs": [
    {
     "data": {
      "text/plain": [
       "[['\\ufeff\"Key\"',\n",
       "  'Item Type',\n",
       "  'Publication Year',\n",
       "  'Author',\n",
       "  'Title',\n",
       "  'Publication Title',\n",
       "  'ISBN',\n",
       "  'ISSN',\n",
       "  'DOI',\n",
       "  'Url',\n",
       "  'Abstract Note',\n",
       "  'Date',\n",
       "  'Date Added',\n",
       "  'Date Modified',\n",
       "  'Access Date',\n",
       "  'Pages',\n",
       "  'Num Pages',\n",
       "  'Issue',\n",
       "  'Volume',\n",
       "  'Number Of Volumes',\n",
       "  'Journal Abbreviation',\n",
       "  'Short Title',\n",
       "  'Series',\n",
       "  'Series Number',\n",
       "  'Series Text',\n",
       "  'Series Title',\n",
       "  'Publisher',\n",
       "  'Place',\n",
       "  'Language',\n",
       "  'Rights',\n",
       "  'Type',\n",
       "  'Archive',\n",
       "  'Archive Location',\n",
       "  'Library Catalog',\n",
       "  'Call Number',\n",
       "  'Extra',\n",
       "  'Notes',\n",
       "  'File Attachments',\n",
       "  'Link Attachments',\n",
       "  'Manual Tags',\n",
       "  'Automatic Tags',\n",
       "  'Editor',\n",
       "  'Series Editor',\n",
       "  'Translator',\n",
       "  'Contributor',\n",
       "  'Attorney Agent',\n",
       "  'Book Author',\n",
       "  'Cast Member',\n",
       "  'Commenter',\n",
       "  'Composer',\n",
       "  'Cosponsor',\n",
       "  'Counsel',\n",
       "  'Interviewer',\n",
       "  'Producer',\n",
       "  'Recipient',\n",
       "  'Reviewed Author',\n",
       "  'Scriptwriter',\n",
       "  'Words By',\n",
       "  'Guest',\n",
       "  'Number',\n",
       "  'Edition',\n",
       "  'Running Time',\n",
       "  'Scale',\n",
       "  'Medium',\n",
       "  'Artwork Size',\n",
       "  'Filing Date',\n",
       "  'Application Number',\n",
       "  'Assignee',\n",
       "  'Issuing Authority',\n",
       "  'Country',\n",
       "  'Meeting Name',\n",
       "  'Conference Name',\n",
       "  'Court',\n",
       "  'References',\n",
       "  'Reporter',\n",
       "  'Legal Status',\n",
       "  'Priority Numbers',\n",
       "  'Programming Language',\n",
       "  'Version',\n",
       "  'System',\n",
       "  'Code',\n",
       "  'Code Number',\n",
       "  'Section',\n",
       "  'Session',\n",
       "  'Committee',\n",
       "  'History',\n",
       "  'Legislative Body']]"
      ]
     },
     "execution_count": 11,
     "metadata": {},
     "output_type": "execute_result"
    }
   ],
   "source": [
    "failed"
   ]
  }
 ],
 "metadata": {
  "kernelspec": {
   "display_name": "Django Shell-Plus",
   "language": "python",
   "name": "django_extensions"
  },
  "language_info": {
   "codemirror_mode": {
    "name": "ipython",
    "version": 3
   },
   "file_extension": ".py",
   "mimetype": "text/x-python",
   "name": "python",
   "nbconvert_exporter": "python",
   "pygments_lexer": "ipython3",
   "version": "3.4.4"
  }
 },
 "nbformat": 4,
 "nbformat_minor": 0
}
