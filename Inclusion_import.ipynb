{
 "cells": [
  {
   "cell_type": "code",
   "execution_count": 16,
   "metadata": {
    "collapsed": true
   },
   "outputs": [],
   "source": [
    "import csv, re"
   ]
  },
  {
   "cell_type": "code",
   "execution_count": 17,
   "metadata": {
    "collapsed": true
   },
   "outputs": [],
   "source": [
    "file = \"data/inclusion.csv\""
   ]
  },
  {
   "cell_type": "code",
   "execution_count": 18,
   "metadata": {
    "collapsed": true
   },
   "outputs": [],
   "source": [
    "with open(file, 'r', encoding ='utf-8') as data:\n",
    "    reader = csv.reader(data)\n",
    "    datalist = list(reader)"
   ]
  },
  {
   "cell_type": "code",
   "execution_count": 19,
   "metadata": {
    "collapsed": true
   },
   "outputs": [],
   "source": [
    "failed_saves = []"
   ]
  },
  {
   "cell_type": "code",
   "execution_count": 20,
   "metadata": {
    "collapsed": false
   },
   "outputs": [],
   "source": [
    "for x in datalist[1:]:\n",
    "    if len(x) != 0:\n",
    "        model = Inclusion.objects.get_or_create(inclusion_id=x[8],\n",
    "                                             inclusion_type=x[2],\n",
    "                                             inclusion_color=x[3],\n",
    "                                             inclusion_form=x[4],\n",
    "                                             inclusion_particle_size=x[5],\n",
    "                                             inclusion_frequency=x[6],\n",
    "                                             inclusion_hardness=x[7],)\n",
    "    else:\n",
    "        failed_saves.append(x)"
   ]
  },
  {
   "cell_type": "code",
   "execution_count": 21,
   "metadata": {
    "collapsed": false
   },
   "outputs": [
    {
     "name": "stdout",
     "output_type": "stream",
     "text": [
      "[]\n"
     ]
    }
   ],
   "source": [
    "print(failed_saves)"
   ]
  },
  {
   "cell_type": "code",
   "execution_count": 25,
   "metadata": {
    "collapsed": false
   },
   "outputs": [
    {
     "name": "stdout",
     "output_type": "stream",
     "text": [
      "Error! ['0', '1', 'Mica', '', 'Spherical', '0,03 cm', '1%', 'Hard', '62']\n",
      "Error! ['0', '2', 'White', '5YR 8/1', 'Spherical', '0,1 cm', '1%', 'Medium', '111']\n",
      "Error! ['0', '3', 'Black', '5YR 2.5/1', 'Spherical', '0,05 cm', '1%', 'Medium', '191']\n"
     ]
    }
   ],
   "source": [
    "for x in datalist[1:]:\n",
    "    try:\n",
    "        inclusion_model = Threedmodel.objects.get(model_id=x[0])\n",
    "        inclusion_model.inclusion.add(Inclusion.objects.get(inclusion_id=x[8]))\n",
    "    except:\n",
    "        print('Error!', x)"
   ]
  },
  {
   "cell_type": "code",
   "execution_count": null,
   "metadata": {
    "collapsed": true
   },
   "outputs": [],
   "source": []
  }
 ],
 "metadata": {
  "kernelspec": {
   "display_name": "Django Shell-Plus",
   "language": "python",
   "name": "django_extensions"
  },
  "language_info": {
   "codemirror_mode": {
    "name": "ipython",
    "version": 3
   },
   "file_extension": ".py",
   "mimetype": "text/x-python",
   "name": "python",
   "nbconvert_exporter": "python",
   "pygments_lexer": "ipython3",
   "version": "3.4.3"
  }
 },
 "nbformat": 4,
 "nbformat_minor": 0
}
