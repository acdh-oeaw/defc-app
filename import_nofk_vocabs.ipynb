{
 "cells": [
  {
   "cell_type": "code",
   "execution_count": 1,
   "metadata": {
    "collapsed": true
   },
   "outputs": [],
   "source": [
    "import csv, re"
   ]
  },
  {
   "cell_type": "code",
   "execution_count": 2,
   "metadata": {
    "collapsed": true
   },
   "outputs": [],
   "source": [
    "file = \"data/small_finds_failed_saves_v9.csv\""
   ]
  },
  {
   "cell_type": "code",
   "execution_count": 3,
   "metadata": {
    "collapsed": true
   },
   "outputs": [],
   "source": [
    "with open(file, 'r', encoding ='utf-8') as data:\n",
    "    reader = csv.reader(data)\n",
    "    datalist = list(reader)"
   ]
  },
  {
   "cell_type": "code",
   "execution_count": 4,
   "metadata": {
    "collapsed": false
   },
   "outputs": [
    {
     "data": {
      "text/plain": [
       "[['classname', 'field name 1', 'value', 'field name 2', 'value'],\n",
       " ['DC_finds_small_finds_type',\n",
       "  'name',\n",
       "  'Fire dog',\n",
       "  'german_name',\n",
       "  '“Feuerbock”'],\n",
       " ['DC_finds_small_finds_type',\n",
       "  'name',\n",
       "  '“Skull crusher”',\n",
       "  'german_name',\n",
       "  '“Skull Crusher”']]"
      ]
     },
     "execution_count": 4,
     "metadata": {},
     "output_type": "execute_result"
    }
   ],
   "source": [
    "datalist[:15]"
   ]
  },
  {
   "cell_type": "code",
   "execution_count": 5,
   "metadata": {
    "collapsed": false
   },
   "outputs": [
    {
     "name": "stdout",
     "output_type": "stream",
     "text": [
      "2\n",
      "saved 2 entries\n",
      "[]\n"
     ]
    }
   ],
   "source": [
    "print(len(datalist[1:]))\n",
    "failed_saves = []\n",
    "c = 0\n",
    "for x in datalist[1:]:\n",
    "    if x[3]==\"\":\n",
    "        string = \"\"\"{}({}=\"{}\", )\"\"\".format(x[0], x[1], x[2])\n",
    "        try:\n",
    "            (eval(string)).save()\n",
    "            c = c+1\n",
    "        except:\n",
    "            failed_saves.append(string)\n",
    "    else:\n",
    "        string = \"\"\"{}({}=\"{}\",{}=\"{}\")\"\"\".format(x[0], x[1], x[2], x[3], x[4])\n",
    "        try:\n",
    "            (eval(string)).save()\n",
    "            c = c+1\n",
    "        except:\n",
    "            failed_saves.append(string)\n",
    "print(\"saved {} entries\".format(c))\n",
    "print(failed_saves)"
   ]
  },
  {
   "cell_type": "code",
   "execution_count": null,
   "metadata": {
    "collapsed": true
   },
   "outputs": [],
   "source": []
  }
 ],
 "metadata": {
  "kernelspec": {
   "display_name": "Django Shell-Plus",
   "language": "python",
   "name": "django_extensions"
  },
  "language_info": {
   "codemirror_mode": {
    "name": "ipython",
    "version": 3
   },
   "file_extension": ".py",
   "mimetype": "text/x-python",
   "name": "python",
   "nbconvert_exporter": "python",
   "pygments_lexer": "ipython3",
   "version": "3.4.3"
  }
 },
 "nbformat": 4,
 "nbformat_minor": 0
}
