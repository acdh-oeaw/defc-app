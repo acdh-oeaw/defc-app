{
 "cells": [
  {
   "cell_type": "code",
   "execution_count": 1,
   "metadata": {
    "collapsed": true
   },
   "outputs": [],
   "source": [
    "import csv, re"
   ]
  },
  {
   "cell_type": "code",
   "execution_count": 2,
   "metadata": {
    "collapsed": true
   },
   "outputs": [],
   "source": [
    "file = \"data/vocabs_simple.csv\""
   ]
  },
  {
   "cell_type": "code",
   "execution_count": 3,
   "metadata": {
    "collapsed": true
   },
   "outputs": [],
   "source": [
    "with open(file, 'r', encoding ='utf-8') as data:\n",
    "    reader = csv.reader(data)\n",
    "    datalist = list(reader)"
   ]
  },
  {
   "cell_type": "code",
   "execution_count": 4,
   "metadata": {
    "collapsed": false
   },
   "outputs": [
    {
     "data": {
      "text/plain": [
       "[['class name', 'fields name', 'field value', 'field name 2', 'second value'],\n",
       " ['DC_country', 'name', 'Turkey', 'original_name', 'Türkei'],\n",
       " ['DC_country', 'name', 'Greece', 'original_name', 'Griechenland'],\n",
       " ['DC_area_areatype', 'name', 'cave or rockshelter', '', ''],\n",
       " ['DC_area_areatype', 'name', 'cemetery or grave', '', ''],\n",
       " ['DC_area_areatype', 'name', 'quarry', '', ''],\n",
       " ['DC_area_areatype', 'name', 'settlement', '', ''],\n",
       " ['DC_area_areatype', 'name', 'undefined', '', ''],\n",
       " ['DC_area_settlementtype', 'name', 'lowland', '', ''],\n",
       " ['DC_area_settlementtype', 'name', 'tell', '', ''],\n",
       " ['DC_area_settlementtype', 'name', 'tepe', '', ''],\n",
       " ['DC_area_settlementstructure', 'name', 'enclosure: ditch', '', ''],\n",
       " ['DC_area_settlementstructure', 'name', 'enclosure: rampart', '', ''],\n",
       " ['DC_area_settlementstructure', 'name', 'enclosure: wall', '', ''],\n",
       " ['DC_area_settlementstructure', 'name', 'houses: free-standing', '', '']]"
      ]
     },
     "execution_count": 4,
     "metadata": {},
     "output_type": "execute_result"
    }
   ],
   "source": [
    "datalist[:15]"
   ]
  },
  {
   "cell_type": "code",
   "execution_count": 5,
   "metadata": {
    "collapsed": false
   },
   "outputs": [
    {
     "name": "stderr",
     "output_type": "stream",
     "text": [
      "C:\\Users\\kzaytseva\\AppData\\Local\\Continuum\\Anaconda3_new\\envs\\defc3.4\\lib\\site-packages\\django\\db\\backends\\mysql\\base.py:124: Warning: Data truncated for column 'name' at row 1\n",
      "  return self.cursor.execute(query, args)\n",
      "\n",
      "WARNING:py.warnings:C:\\Users\\kzaytseva\\AppData\\Local\\Continuum\\Anaconda3_new\\envs\\defc3.4\\lib\\site-packages\\django\\db\\backends\\mysql\\base.py:124: Warning: Data truncated for column 'name' at row 1\n",
      "  return self.cursor.execute(query, args)\n",
      "\n"
     ]
    },
    {
     "name": "stdout",
     "output_type": "stream",
     "text": [
      "767\n",
      "saved 767 entries\n",
      "[]\n"
     ]
    }
   ],
   "source": [
    "print(len(datalist[1:]))\n",
    "failed_saves = []\n",
    "c = 0\n",
    "for x in datalist[1:]:\n",
    "    if x[3]==\"\":\n",
    "        string = \"\"\"{}({}=\"{}\", )\"\"\".format(x[0], x[1], x[2])\n",
    "        try:\n",
    "            (eval(string)).save()\n",
    "            c = c+1\n",
    "        except:\n",
    "            failed_saves.append(string)\n",
    "    else:\n",
    "        string = \"\"\"{}({}=\"{}\",{}=\"{}\")\"\"\".format(x[0], x[1], x[2], x[3], x[4])\n",
    "        try:\n",
    "            (eval(string)).save()\n",
    "            c = c+1\n",
    "        except:\n",
    "            failed_saves.append(string)\n",
    "print(\"saved {} entries\".format(c))\n",
    "print(failed_saves)"
   ]
  }
 ],
 "metadata": {
  "kernelspec": {
   "display_name": "Django Shell-Plus",
   "language": "python",
   "name": "django_extensions"
  },
  "language_info": {
   "codemirror_mode": {
    "name": "ipython",
    "version": 3
   },
   "file_extension": ".py",
   "mimetype": "text/x-python",
   "name": "python",
   "nbconvert_exporter": "python",
   "pygments_lexer": "ipython3",
   "version": "3.4.3"
  }
 },
 "nbformat": 4,
 "nbformat_minor": 0
}
