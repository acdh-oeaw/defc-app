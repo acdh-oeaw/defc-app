{
 "cells": [
  {
   "cell_type": "markdown",
   "metadata": {},
   "source": [
    "# merge all skos files into a single file"
   ]
  },
  {
   "cell_type": "code",
   "execution_count": 87,
   "metadata": {
    "collapsed": true
   },
   "outputs": [],
   "source": [
    "import glob\n",
    "import os\n",
    "import rdflib\n",
    "from rdflib.namespace import DC, FOAF, RDFS, RDF, XSD"
   ]
  },
  {
   "cell_type": "code",
   "execution_count": 88,
   "metadata": {
    "collapsed": true
   },
   "outputs": [],
   "source": [
    "acdhi = rdflib.Namespace(\"https://id.acdh.oeaw.ac.at/\")\n",
    "acdh = rdflib.Namespace(\"https://vocabs.acdh.oeaw.ac.at/#\")\n",
    "dcterms = rdflib.Namespace(\"http://purl.org/dc/terms/\")\n",
    "cidoc = rdflib.Namespace(\"http://www.cidoc-crm.org/cidoc-crm/\")\n",
    "crmdig = rdflib.Namespace(\"http://www.ics.forth.gr/isl/CRMdig/\")"
   ]
  },
  {
   "cell_type": "code",
   "execution_count": 89,
   "metadata": {
    "collapsed": true
   },
   "outputs": [],
   "source": [
    "files = [x for x in os.listdir(\".\") if x.endswith('rdf') or x.endswith('ttl')]"
   ]
  },
  {
   "cell_type": "code",
   "execution_count": 90,
   "metadata": {
    "collapsed": false
   },
   "outputs": [],
   "source": [
    "graph = rdflib.Graph()\n",
    "for x in files:\n",
    "    try:\n",
    "        graph.parse(x)\n",
    "    except:\n",
    "        graph.parse(x, format='ttl')"
   ]
  },
  {
   "cell_type": "code",
   "execution_count": 91,
   "metadata": {
    "collapsed": false
   },
   "outputs": [
    {
     "data": {
      "text/plain": [
       "8277"
      ]
     },
     "execution_count": 91,
     "metadata": {},
     "output_type": "execute_result"
    }
   ],
   "source": [
    "graph.__len__()"
   ]
  },
  {
   "cell_type": "code",
   "execution_count": 92,
   "metadata": {
    "collapsed": true
   },
   "outputs": [],
   "source": [
    "hansi = graph.serialize(destination='merged/temp.ttl', format='ttl', encoding='utf-8')"
   ]
  },
  {
   "cell_type": "code",
   "execution_count": null,
   "metadata": {
    "collapsed": true
   },
   "outputs": [],
   "source": []
  }
 ],
 "metadata": {
  "kernelspec": {
   "display_name": "Python 3",
   "language": "python",
   "name": "python3"
  },
  "language_info": {
   "codemirror_mode": {
    "name": "ipython",
    "version": 3
   },
   "file_extension": ".py",
   "mimetype": "text/x-python",
   "name": "python",
   "nbconvert_exporter": "python",
   "pygments_lexer": "ipython3",
   "version": "3.5.3"
  }
 },
 "nbformat": 4,
 "nbformat_minor": 2
}
